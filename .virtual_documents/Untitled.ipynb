import torch
M = torch.tensor([
    [1, 2],  # 第0行
    [3, 4],  # 第1行
    [5, 6]   # 第2行
])


M[0]



