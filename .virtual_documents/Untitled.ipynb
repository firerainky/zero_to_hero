import torch
import matplotlib.pyplot as plt
%matplotlib inline


words = open('names.txt', 'r').read().splitlines()


N = torch.zeros((27, 27), dtype = torch.int32)
chars = sorted(list(set(''.join(words))))
stoi = {s:i+1 for i, s in enumerate(chars)}
stoi['.'] = 0
itos = {i:s for s, i in stoi.items()}







# creating the training set of bigrams
xs, ys = [], []
for w in words[:1]:
    chs =['.'] + list(w) + ['.']
    for ch1, ch2 in zip(chs, chs[1:]):
        ix1 = stoi[ch1]
        ix2 = stoi[ch2]
        print(ch1, ch2)
        xs.append(ix1)
        ys.append(ix2)

xs = torch.tensor(xs)
ys = torch.tensor(ys)


xs


ys





import torch.nn.functional as F
xenc = F.one_hot(xs, num_classes=27).float()
xenc


xenc.shape


plt.imshow(xenc)
plt.show()


xenc.dtype





W = torch.randn(27, 27)
V = xenc @ W
V


V[0,0]



