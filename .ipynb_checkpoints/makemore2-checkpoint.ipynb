{
 "cells": [
  {
   "cell_type": "code",
   "execution_count": 22,
   "id": "6fee8fe9-3700-4a90-b0bc-6db0d6b6bd72",
   "metadata": {},
   "outputs": [],
   "source": [
    "import torch\n",
    "import matplotlib.pyplot as plt\n",
    "%matplotlib inline"
   ]
  },
  {
   "cell_type": "code",
   "execution_count": 2,
   "id": "6188cfdc-6b09-49f4-9df3-60c4ac7c5fc6",
   "metadata": {},
   "outputs": [],
   "source": [
    "words = open('names.txt', 'r').read().splitlines()"
   ]
  },
  {
   "cell_type": "code",
   "execution_count": 4,
   "id": "206deb3d-89c9-4edd-b14b-a970b2612080",
   "metadata": {},
   "outputs": [],
   "source": [
    "N = torch.zeros((27, 27), dtype = torch.int32)\n",
    "chars = sorted(list(set(''.join(words))))\n",
    "stoi = {s:i+1 for i, s in enumerate(chars)}\n",
    "stoi['.'] = 0\n",
    "itos = {i:s for s, i in stoi.items()}\n",
    "\n"
   ]
  },
  {
   "cell_type": "markdown",
   "id": "9beeaf9c-b334-4c18-a303-3ee5b6a1b8e0",
   "metadata": {},
   "source": [
    "# creating the bigram dataset for the neural net"
   ]
  },
  {
   "cell_type": "code",
   "execution_count": 17,
   "id": "7c8c8aa9-ec31-4c62-ac9f-34d2b35c4f68",
   "metadata": {},
   "outputs": [
    {
     "name": "stdout",
     "output_type": "stream",
     "text": [
      ". e\n",
      "e m\n",
      "m m\n",
      "m a\n",
      "a .\n"
     ]
    }
   ],
   "source": [
    "# creating the training set of bigrams\n",
    "xs, ys = [], []\n",
    "for w in words[:1]:\n",
    "    chs =['.'] + list(w) + ['.']\n",
    "    for ch1, ch2 in zip(chs, chs[1:]):\n",
    "        ix1 = stoi[ch1]\n",
    "        ix2 = stoi[ch2]\n",
    "        print(ch1, ch2)\n",
    "        xs.append(ix1)\n",
    "        ys.append(ix2)\n",
    "\n",
    "xs = torch.tensor(xs)\n",
    "ys = torch.tensor(ys)"
   ]
  },
  {
   "cell_type": "code",
   "execution_count": 15,
   "id": "06d321a7-a702-45b7-ba4b-f40af0cdaa3e",
   "metadata": {},
   "outputs": [
    {
     "data": {
      "text/plain": [
       "tensor([ 0,  5, 13, 13,  1])"
      ]
     },
     "execution_count": 15,
     "metadata": {},
     "output_type": "execute_result"
    }
   ],
   "source": [
    "xs"
   ]
  },
  {
   "cell_type": "code",
   "execution_count": 16,
   "id": "83a2a4fb-e549-4852-a77c-65a5f68fd37d",
   "metadata": {},
   "outputs": [
    {
     "data": {
      "text/plain": [
       "tensor([ 5, 13, 13,  1,  0])"
      ]
     },
     "execution_count": 16,
     "metadata": {},
     "output_type": "execute_result"
    }
   ],
   "source": [
    "ys"
   ]
  },
  {
   "cell_type": "markdown",
   "id": "281f39f7-57dd-47ef-bf99-2c1a93aea91b",
   "metadata": {},
   "source": [
    "# feeding integers into neural nets? one-hot encodings"
   ]
  },
  {
   "cell_type": "code",
   "execution_count": 26,
   "id": "888d9e05-df5a-4fd6-8e5c-d416cd71be7d",
   "metadata": {},
   "outputs": [
    {
     "data": {
      "text/plain": [
       "tensor([[1., 0., 0., 0., 0., 0., 0., 0., 0., 0., 0., 0., 0., 0., 0., 0., 0., 0.,\n",
       "         0., 0., 0., 0., 0., 0., 0., 0., 0.],\n",
       "        [0., 0., 0., 0., 0., 1., 0., 0., 0., 0., 0., 0., 0., 0., 0., 0., 0., 0.,\n",
       "         0., 0., 0., 0., 0., 0., 0., 0., 0.],\n",
       "        [0., 0., 0., 0., 0., 0., 0., 0., 0., 0., 0., 0., 0., 1., 0., 0., 0., 0.,\n",
       "         0., 0., 0., 0., 0., 0., 0., 0., 0.],\n",
       "        [0., 0., 0., 0., 0., 0., 0., 0., 0., 0., 0., 0., 0., 1., 0., 0., 0., 0.,\n",
       "         0., 0., 0., 0., 0., 0., 0., 0., 0.],\n",
       "        [0., 1., 0., 0., 0., 0., 0., 0., 0., 0., 0., 0., 0., 0., 0., 0., 0., 0.,\n",
       "         0., 0., 0., 0., 0., 0., 0., 0., 0.]])"
      ]
     },
     "execution_count": 26,
     "metadata": {},
     "output_type": "execute_result"
    }
   ],
   "source": [
    "import torch.nn.functional as F\n",
    "xenc = F.one_hot(xs, num_classes=27).float()\n",
    "xenc"
   ]
  },
  {
   "cell_type": "code",
   "execution_count": 27,
   "id": "f46de053-d009-4bf4-93fa-a2d2cde0f1d1",
   "metadata": {},
   "outputs": [
    {
     "data": {
      "text/plain": [
       "torch.Size([5, 27])"
      ]
     },
     "execution_count": 27,
     "metadata": {},
     "output_type": "execute_result"
    }
   ],
   "source": [
    "xenc.shape"
   ]
  },
  {
   "cell_type": "code",
   "execution_count": 28,
   "id": "68c455c5-8a2e-4501-8be4-c7a033853cb4",
   "metadata": {},
   "outputs": [
    {
     "data": {
      "image/png": "[encoded data removed]",
      "text/plain": [
       "<Figure size 640x480 with 1 Axes>"
      ]
     },
     "metadata": {},
     "output_type": "display_data"
    }
   ],
   "source": [
    "plt.imshow(xenc)\n",
    "plt.show()"
   ]
  },
  {
   "cell_type": "code",
   "execution_count": 29,
   "id": "7c441883-6631-4c3e-af0c-e70961b21785",
   "metadata": {},
   "outputs": [
    {
     "data": {
      "text/plain": [
       "torch.float32"
      ]
     },
     "execution_count": 29,
     "metadata": {},
     "output_type": "execute_result"
    }
   ],
   "source": [
    "xenc.dtype"
   ]
  },
  {
   "cell_type": "markdown",
   "id": "9fe527fa-5a99-4ead-a32c-648fddade0db",
   "metadata": {},
   "source": [
    "# the \"neural net\": one linear layer of neurons implemented with matrix multiplication"
   ]
  },
  {
   "cell_type": "code",
   "execution_count": 63,
   "id": "2de8d640-4d06-4e62-9a7b-e518eea362ce",
   "metadata": {},
   "outputs": [],
   "source": [
    "W = torch.randn(27, 27)"
   ]
  },
  {
   "cell_type": "code",
   "execution_count": 64,
   "id": "1946150f-a5d5-4997-a66d-c687109f00e6",
   "metadata": {},
   "outputs": [
    {
     "data": {
      "text/plain": [
       "tensor(1.2358)"
      ]
     },
     "execution_count": 64,
     "metadata": {},
     "output_type": "execute_result"
    }
   ],
   "source": [
    "(xenc @ W)[3, 13]"
   ]
  },
  {
   "cell_type": "code",
   "execution_count": 65,
   "id": "b298ce70-4036-4782-b4f3-7c6e8cc7383e",
   "metadata": {},
   "outputs": [
    {
     "data": {
      "text/plain": [
       "tensor([0., 0., 0., 0., 0., 0., 0., 0., 0., 0., 0., 0., 0., 1., 0., 0., 0., 0.,\n",
       "        0., 0., 0., 0., 0., 0., 0., 0., 0.])"
      ]
     },
     "execution_count": 65,
     "metadata": {},
     "output_type": "execute_result"
    }
   ],
   "source": [
    "xenc[3]"
   ]
  },
  {
   "cell_type": "code",
   "execution_count": 66,
   "id": "7c4a4a86-1c34-42dd-94f7-61fcc1943b54",
   "metadata": {},
   "outputs": [
    {
     "data": {
      "text/plain": [
       "tensor([ 0.3108,  0.0149,  0.3535, -1.3420,  0.2746, -1.1652, -1.5719,  1.7565,\n",
       "         0.2270,  0.3639, -1.1917,  1.3073,  0.3808,  1.2358,  1.6493,  0.0716,\n",
       "         0.1197,  0.7567, -0.5067, -0.9753,  0.8882,  0.3752,  0.1708, -0.9880,\n",
       "        -1.5948, -0.7727,  1.1135])"
      ]
     },
     "execution_count": 66,
     "metadata": {},
     "output_type": "execute_result"
    }
   ],
   "source": [
    "W[:, 13]"
   ]
  },
  {
   "cell_type": "code",
   "execution_count": 67,
   "id": "d27a653a-78bd-481f-a2f1-0790b8e6a363",
   "metadata": {},
   "outputs": [
    {
     "data": {
      "text/plain": [
       "tensor(1.2358)"
      ]
     },
     "execution_count": 67,
     "metadata": {},
     "output_type": "execute_result"
    }
   ],
   "source": [
    "(xenc[3] * W[:, 13]).sum()"
   ]
  },
  {
   "cell_type": "code",
   "execution_count": null,
   "id": "7aa7a6be-826d-49ff-b273-e5165a2cf3e7",
   "metadata": {},
   "outputs": [],
   "source": [
    "# (5, 27) @ (27, 27) -> (5, 27)"
   ]
  },
  {
   "cell_type": "markdown",
   "id": "1d6f471e-0b0b-4545-a63f-cbebaf29e174",
   "metadata": {},
   "source": [
    "# transforming neural net outputs into probabilities: the softmax"
   ]
  },
  {
   "cell_type": "code",
   "execution_count": 74,
   "id": "f569d94a-596a-4417-a48c-fa9655c8e6f7",
   "metadata": {},
   "outputs": [
    {
     "data": {
      "text/plain": [
       "tensor([[0.0241, 0.0089, 0.0354, 0.0183, 0.1421, 0.0074, 0.0221, 0.0188, 0.0685,\n",
       "         0.0178, 0.2038, 0.0070, 0.0106, 0.0345, 0.0150, 0.0762, 0.0236, 0.0397,\n",
       "         0.0118, 0.0175, 0.0963, 0.0361, 0.0047, 0.0075, 0.0133, 0.0215, 0.0174],\n",
       "        [0.0259, 0.0406, 0.0605, 0.0219, 0.0411, 0.0083, 0.0088, 0.0085, 0.0766,\n",
       "         0.0315, 0.0167, 0.0206, 0.1066, 0.0070, 0.0065, 0.0661, 0.0359, 0.1232,\n",
       "         0.0047, 0.0062, 0.0301, 0.0042, 0.1687, 0.0285, 0.0077, 0.0120, 0.0317],\n",
       "        [0.0060, 0.3362, 0.0119, 0.0064, 0.0320, 0.0255, 0.0151, 0.0363, 0.1220,\n",
       "         0.0176, 0.0177, 0.0095, 0.0177, 0.0658, 0.0103, 0.0049, 0.0391, 0.0846,\n",
       "         0.0065, 0.0229, 0.0099, 0.0186, 0.0102, 0.0331, 0.0065, 0.0224, 0.0112],\n",
       "        [0.0060, 0.3362, 0.0119, 0.0064, 0.0320, 0.0255, 0.0151, 0.0363, 0.1220,\n",
       "         0.0176, 0.0177, 0.0095, 0.0177, 0.0658, 0.0103, 0.0049, 0.0391, 0.0846,\n",
       "         0.0065, 0.0229, 0.0099, 0.0186, 0.0102, 0.0331, 0.0065, 0.0224, 0.0112],\n",
       "        [0.0370, 0.0927, 0.0085, 0.0921, 0.0480, 0.0303, 0.0206, 0.0330, 0.0103,\n",
       "         0.0209, 0.0024, 0.0384, 0.0029, 0.0265, 0.0507, 0.0257, 0.0047, 0.0743,\n",
       "         0.0196, 0.1048, 0.0242, 0.0723, 0.0244, 0.0368, 0.0230, 0.0194, 0.0564]])"
      ]
     },
     "execution_count": 74,
     "metadata": {},
     "output_type": "execute_result"
    }
   ],
   "source": [
    "logits = xenc @ W # log-counts\n",
    "counts = logits.exp() # equivalent to N\n",
    "probs = counts / counts.sum(1, keepdim = True)\n",
    "probs"
   ]
  },
  {
   "cell_type": "code",
   "execution_count": 75,
   "id": "95827990-5b81-4e61-b4f3-a022091d8239",
   "metadata": {},
   "outputs": [
    {
     "data": {
      "text/plain": [
       "tensor(1.0000)"
      ]
     },
     "execution_count": 75,
     "metadata": {},
     "output_type": "execute_result"
    }
   ],
   "source": [
    "probs[1].sum()"
   ]
  },
  {
   "cell_type": "markdown",
   "id": "d3bf0f07-5c21-4b92-aa27-3ddaed950841",
   "metadata": {},
   "source": [
    "# summary, preview to next steps, reference to micrograd"
   ]
  },
  {
   "cell_type": "code",
   "execution_count": 76,
   "id": "c3823777-7a45-404a-9aec-d1c16fd04d0a",
   "metadata": {},
   "outputs": [
    {
     "data": {
      "text/plain": [
       "tensor([ 0,  5, 13, 13,  1])"
      ]
     },
     "execution_count": 76,
     "metadata": {},
     "output_type": "execute_result"
    }
   ],
   "source": [
    "xs"
   ]
  },
  {
   "cell_type": "code",
   "execution_count": 77,
   "id": "e888b78d-149d-4752-8ca7-8352913f7be1",
   "metadata": {},
   "outputs": [
    {
     "data": {
      "text/plain": [
       "tensor([ 5, 13, 13,  1,  0])"
      ]
     },
     "execution_count": 77,
     "metadata": {},
     "output_type": "execute_result"
    }
   ],
   "source": [
    "ys"
   ]
  },
  {
   "cell_type": "code",
   "execution_count": 78,
   "id": "83205649-c97c-46f9-a945-a8978962a8ef",
   "metadata": {},
   "outputs": [],
   "source": [
    "# randomly initialize 27 neurons' weights. each neuron receives 27 intputs\n",
    "g = torch.Generator().manual_seed(2147483647 + 1)\n",
    "W = torch.randn((27, 27), generator = g)"
   ]
  },
  {
   "cell_type": "code",
   "execution_count": 79,
   "id": "9f4d963f-57b6-4002-8782-2eba33f26813",
   "metadata": {},
   "outputs": [],
   "source": [
    "xenc = F.one_hot(xs, num_classes = 27).float() # input to the network: one-hot encoding\n",
    "logits = xenc @ W # predict log-counts\n",
    "counts = logits.exp() # counts, equivalent to N\n",
    "probs = counts / counts.sum(1, keepdims = True) # probabilities for the next character\n",
    "# btw: the last 2 lines here are together called a 'softmax'"
   ]
  },
  {
   "cell_type": "code",
   "execution_count": 80,
   "id": "0de72374-8ee1-44b8-9d18-1512386d3d53",
   "metadata": {},
   "outputs": [
    {
     "data": {
      "text/plain": [
       "torch.Size([5, 27])"
      ]
     },
     "execution_count": 80,
     "metadata": {},
     "output_type": "execute_result"
    }
   ],
   "source": [
    "probs.shape"
   ]
  },
  {
   "cell_type": "code",
   "execution_count": 81,
   "id": "009a9eeb-cc30-48e4-9e30-dadcf30bb322",
   "metadata": {},
   "outputs": [
    {
     "name": "stdout",
     "output_type": "stream",
     "text": [
      "--------\n",
      "\n",
      "bigram example 1: .e (indexes 0,5)\n",
      "input to the neural net: 0\n",
      "output probabilities from the neural net: tensor([0.0607, 0.0100, 0.0123, 0.0042, 0.0168, 0.0123, 0.0027, 0.0232, 0.0137,\n",
      "        0.0313, 0.0079, 0.0278, 0.0091, 0.0082, 0.0500, 0.2378, 0.0603, 0.0025,\n",
      "        0.0249, 0.0055, 0.0339, 0.0109, 0.0029, 0.0198, 0.0118, 0.1537, 0.1459])\n",
      "label (actual next character): 5\n",
      "probability assigned by the net to the the correct character: 0.01228625513613224\n",
      "log likelihood: -4.399273872375488\n",
      "negative log likelihood: 4.399273872375488\n",
      "--------\n",
      "\n",
      "bigram example 2: em (indexes 5,13)\n",
      "input to the neural net: 5\n",
      "output probabilities from the neural net: tensor([0.0290, 0.0796, 0.0248, 0.0521, 0.1989, 0.0289, 0.0094, 0.0335, 0.0097,\n",
      "        0.0301, 0.0702, 0.0228, 0.0115, 0.0181, 0.0108, 0.0315, 0.0291, 0.0045,\n",
      "        0.0916, 0.0215, 0.0486, 0.0300, 0.0501, 0.0027, 0.0118, 0.0022, 0.0472])\n",
      "label (actual next character): 13\n",
      "probability assigned by the net to the the correct character: 0.018050700426101685\n",
      "log likelihood: -4.014570713043213\n",
      "negative log likelihood: 4.014570713043213\n",
      "--------\n",
      "\n",
      "bigram example 3: mm (indexes 13,13)\n",
      "input to the neural net: 13\n",
      "output probabilities from the neural net: tensor([0.0312, 0.0737, 0.0484, 0.0333, 0.0674, 0.0200, 0.0263, 0.0249, 0.1226,\n",
      "        0.0164, 0.0075, 0.0789, 0.0131, 0.0267, 0.0147, 0.0112, 0.0585, 0.0121,\n",
      "        0.0650, 0.0058, 0.0208, 0.0078, 0.0133, 0.0203, 0.1204, 0.0469, 0.0126])\n",
      "label (actual next character): 13\n",
      "probability assigned by the net to the the correct character: 0.026691533625125885\n",
      "log likelihood: -3.623408794403076\n",
      "negative log likelihood: 3.623408794403076\n",
      "--------\n",
      "\n",
      "bigram example 4: ma (indexes 13,1)\n",
      "input to the neural net: 13\n",
      "output probabilities from the neural net: tensor([0.0312, 0.0737, 0.0484, 0.0333, 0.0674, 0.0200, 0.0263, 0.0249, 0.1226,\n",
      "        0.0164, 0.0075, 0.0789, 0.0131, 0.0267, 0.0147, 0.0112, 0.0585, 0.0121,\n",
      "        0.0650, 0.0058, 0.0208, 0.0078, 0.0133, 0.0203, 0.1204, 0.0469, 0.0126])\n",
      "label (actual next character): 1\n",
      "probability assigned by the net to the the correct character: 0.07367686182260513\n",
      "log likelihood: -2.6080665588378906\n",
      "negative log likelihood: 2.6080665588378906\n",
      "--------\n",
      "\n",
      "bigram example 5: a. (indexes 1,0)\n",
      "input to the neural net: 1\n",
      "output probabilities from the neural net: tensor([0.0150, 0.0086, 0.0396, 0.0100, 0.0606, 0.0308, 0.1084, 0.0131, 0.0125,\n",
      "        0.0048, 0.1024, 0.0086, 0.0988, 0.0112, 0.0232, 0.0207, 0.0408, 0.0078,\n",
      "        0.0899, 0.0531, 0.0463, 0.0309, 0.0051, 0.0329, 0.0654, 0.0503, 0.0091])\n",
      "label (actual next character): 0\n",
      "probability assigned by the net to the the correct character: 0.014977526850998402\n",
      "log likelihood: -4.201204299926758\n",
      "negative log likelihood: 4.201204299926758\n",
      "\n",
      "=========\n",
      "average negative log likelihood, i.e. loss = 3.7693049907684326\n"
     ]
    }
   ],
   "source": [
    "nlls = torch.zeros(5)\n",
    "for i in range(5):\n",
    "    # i-th bigram:\n",
    "    x = xs[i].item() # input character index\n",
    "    y = ys[i].item() # label charactor index\n",
    "    print('--------\\n')\n",
    "    print(f'bigram example {i+1}: {itos[x]}{itos[y]} (indexes {x},{y})')\n",
    "    print('input to the neural net:', x)\n",
    "    print('output probabilities from the neural net:', probs[i])\n",
    "    print('label (actual next character):', y)\n",
    "    p = probs[i, y]\n",
    "    print('probability assigned by the net to the the correct character:', p.item())\n",
    "    logp = torch.log(p)\n",
    "    print('log likelihood:', logp.item())\n",
    "    nll = -logp\n",
    "    print('negative log likelihood:', nll.item())\n",
    "    nlls[i] = nll\n",
    "\n",
    "print('\\n=========')\n",
    "print('average negative log likelihood, i.e. loss =', nlls.mean().item())"
   ]
  }
 ],
 "metadata": {
  "kernelspec": {
   "display_name": "Python 3 (ipykernel)",
   "language": "python",
   "name": "python3"
  },
  "language_info": {
   "codemirror_mode": {
    "name": "ipython",
    "version": 3
   },
   "file_extension": ".py",
   "mimetype": "text/x-python",
   "name": "python",
   "nbconvert_exporter": "python",
   "pygments_lexer": "ipython3",
   "version": "3.12.7"
  }
 },
 "nbformat": 4,
 "nbformat_minor": 5
}
