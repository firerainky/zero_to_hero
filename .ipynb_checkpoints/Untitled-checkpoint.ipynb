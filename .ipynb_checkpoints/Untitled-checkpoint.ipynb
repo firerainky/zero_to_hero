{
 "cells": [
  {
   "cell_type": "code",
   "execution_count": 1,
   "id": "c9487dcc-6c63-4941-8ab8-9a8fb366155b",
   "metadata": {},
   "outputs": [],
   "source": [
    "import torch\n",
    "import matplotlib.pyplot as plt\n",
    "%matplotlib inline"
   ]
  },
  {
   "cell_type": "code",
   "execution_count": 2,
   "id": "0cc019ce-2eca-43a7-970c-df84ced0399d",
   "metadata": {},
   "outputs": [],
   "source": [
    "words = open('names.txt', 'r').read().splitlines()"
   ]
  },
  {
   "cell_type": "code",
   "execution_count": 6,
   "id": "b343bf80-523c-4d99-9ea5-875450c32ce8",
   "metadata": {},
   "outputs": [
    {
     "data": {
      "text/plain": [
       "32033"
      ]
     },
     "execution_count": 6,
     "metadata": {},
     "output_type": "execute_result"
    }
   ],
   "source": [
    "len(words)"
   ]
  },
  {
   "cell_type": "code",
   "execution_count": 8,
   "id": "3ea7df6a-d94d-483a-b3ec-2200ade28851",
   "metadata": {},
   "outputs": [
    {
     "data": {
      "text/plain": [
       "['charlotte', 'mia', 'amelia', 'harper', 'evelyn']"
      ]
     },
     "execution_count": 8,
     "metadata": {},
     "output_type": "execute_result"
    }
   ],
   "source": [
    "words[5:10]"
   ]
  },
  {
   "cell_type": "code",
   "execution_count": 10,
   "id": "882610fa-e825-4453-bedb-31ef77062707",
   "metadata": {},
   "outputs": [
    {
     "data": {
      "text/plain": [
       "15"
      ]
     },
     "execution_count": 10,
     "metadata": {},
     "output_type": "execute_result"
    }
   ],
   "source": [
    "max(len(w) for w in words)"
   ]
  },
  {
   "cell_type": "code",
   "execution_count": 18,
   "id": "8d2d3138-256b-45fe-8817-058714a60029",
   "metadata": {},
   "outputs": [
    {
     "data": {
      "text/plain": [
       "{('.', 'e'): 2,\n",
       " ('e', 'm'): 1,\n",
       " ('m', 'm'): 1,\n",
       " ('m', 'a'): 1,\n",
       " ('a', '.'): 7,\n",
       " ('.', 'o'): 1,\n",
       " ('o', 'l'): 1,\n",
       " ('l', 'i'): 2,\n",
       " ('i', 'v'): 1,\n",
       " ('v', 'i'): 1,\n",
       " ('i', 'a'): 4,\n",
       " ('.', 'a'): 2,\n",
       " ('a', 'v'): 1,\n",
       " ('v', 'a'): 1,\n",
       " ('.', 'i'): 1,\n",
       " ('i', 's'): 1,\n",
       " ('s', 'a'): 1,\n",
       " ('a', 'b'): 1,\n",
       " ('b', 'e'): 1,\n",
       " ('e', 'l'): 3,\n",
       " ('l', 'l'): 1,\n",
       " ('l', 'a'): 1,\n",
       " ('.', 's'): 1,\n",
       " ('s', 'o'): 1,\n",
       " ('o', 'p'): 1,\n",
       " ('p', 'h'): 1,\n",
       " ('h', 'i'): 1,\n",
       " ('.', 'c'): 1,\n",
       " ('c', 'h'): 1,\n",
       " ('h', 'a'): 2,\n",
       " ('a', 'r'): 2,\n",
       " ('r', 'l'): 1,\n",
       " ('l', 'o'): 1,\n",
       " ('o', 't'): 1,\n",
       " ('t', 't'): 1,\n",
       " ('t', 'e'): 1,\n",
       " ('e', '.'): 1,\n",
       " ('.', 'm'): 1,\n",
       " ('m', 'i'): 1,\n",
       " ('a', 'm'): 1,\n",
       " ('m', 'e'): 1,\n",
       " ('.', 'h'): 1,\n",
       " ('r', 'p'): 1,\n",
       " ('p', 'e'): 1,\n",
       " ('e', 'r'): 1,\n",
       " ('r', '.'): 1,\n",
       " ('e', 'v'): 1,\n",
       " ('v', 'e'): 1,\n",
       " ('l', 'y'): 1,\n",
       " ('y', 'n'): 1,\n",
       " ('n', '.'): 1}"
      ]
     },
     "execution_count": 18,
     "metadata": {},
     "output_type": "execute_result"
    }
   ],
   "source": [
    "b = {}\n",
    "for w in words[:10]:\n",
    "    chs = ['.'] + list(w) + ['.']\n",
    "    for ch1, ch2 in zip(chs, chs[1:]):\n",
    "        bigram = (ch1, ch2)\n",
    "        b[bigram] = b.get(bigram, 0) + 1\n",
    "        \n",
    "b"
   ]
  },
  {
   "cell_type": "code",
   "execution_count": 34,
   "id": "f6401204-0826-4efa-8414-673d352637e2",
   "metadata": {},
   "outputs": [],
   "source": [
    "N = torch.zeros((27, 27), dtype = torch.int32)"
   ]
  },
  {
   "cell_type": "code",
   "execution_count": 94,
   "id": "339919b9-27a1-4726-8844-5cb32f67decd",
   "metadata": {},
   "outputs": [],
   "source": [
    "chars = sorted(list(set(''.join(words))))\n",
    "stoi = {s:i+1 for i, s in enumerate(chars)}\n",
    "stoi['.'] = 0\n",
    "itos = {i:s for s, i in stoi.items()}\n",
    "b = {}\n",
    "for w in words:\n",
    "    chs = ['.'] + list(w) + ['.']\n",
    "    for ch1, ch2 in zip(chs, chs[1:]):\n",
    "        N[stoi[ch1], stoi[ch2]] += 1\n",
    "        "
   ]
  },
  {
   "cell_type": "code",
   "execution_count": 42,
   "id": "a4286c88-6967-4022-9efa-8f781fdd88e1",
   "metadata": {},
   "outputs": [
    {
     "data": {
      "text/plain": [
       "torch.Size([27])"
      ]
     },
     "execution_count": 42,
     "metadata": {},
     "output_type": "execute_result"
    }
   ],
   "source": [
    "N[0].shape"
   ]
  },
  {
   "cell_type": "code",
   "execution_count": 182,
   "id": "922eed72-2425-4c92-967f-fb0d6c889f67",
   "metadata": {},
   "outputs": [
    {
     "data": {
      "text/plain": [
       "tensor([0.0000, 0.1377, 0.0408, 0.0481, 0.0528, 0.0478, 0.0130, 0.0209, 0.0273,\n",
       "        0.0185, 0.0756, 0.0925, 0.0491, 0.0792, 0.0358, 0.0123, 0.0161, 0.0029,\n",
       "        0.0512, 0.0642, 0.0408, 0.0024, 0.0117, 0.0096, 0.0042, 0.0167, 0.0290])"
      ]
     },
     "execution_count": 182,
     "metadata": {},
     "output_type": "execute_result"
    }
   ],
   "source": [
    "p = N[0].float()\n",
    "p / p.sum()"
   ]
  },
  {
   "cell_type": "code",
   "execution_count": 205,
   "id": "27cde059-c77c-4577-938e-383888b9db0e",
   "metadata": {},
   "outputs": [],
   "source": []
  },
  {
   "cell_type": "code",
   "execution_count": 221,
   "id": "8b43705a-c0e5-41c0-9c90-7a554ac3d76a",
   "metadata": {},
   "outputs": [
    {
     "data": {
      "text/plain": [
       "3"
      ]
     },
     "execution_count": 221,
     "metadata": {},
     "output_type": "execute_result"
    }
   ],
   "source": [
    "g = torch.Generator().manual_seed(2147483647)\n",
    "torch.multinomial(p, num_samples = 1, replacement = True, generator = g).item()"
   ]
  },
  {
   "cell_type": "code",
   "execution_count": 120,
   "id": "995ae3bc-8c50-4d14-90dd-5d0f0d1c6486",
   "metadata": {},
   "outputs": [],
   "source": [
    "first_chars = [itos[index.item()] for index in first_idxs]"
   ]
  },
  {
   "cell_type": "code",
   "execution_count": 316,
   "id": "a40f8e08-f649-44d7-adc8-acfe3be11b39",
   "metadata": {},
   "outputs": [
    {
     "name": "stdout",
     "output_type": "stream",
     "text": [
      "cexze\n",
      "momasurailezitynn\n",
      "konimittain\n",
      "llayn\n",
      "ka\n",
      "da\n",
      "staiyaubrtthrigotai\n",
      "moliellavo\n",
      "ke\n",
      "teda\n",
      "ka\n",
      "emimmsade\n",
      "enkaviyny\n",
      "ftlspihinivenvorhlasu\n",
      "dsor\n",
      "br\n",
      "jol\n",
      "pen\n",
      "aisan\n",
      "ja\n"
     ]
    }
   ],
   "source": [
    "g = torch.Generator().manual_seed(2147483647)\n",
    "p = N / N.sum(1, keepdim = True)\n",
    "for _ in range(20):\n",
    "    w = []\n",
    "    cur_idx = 0\n",
    "    while True:\n",
    "        char_idx = torch.multinomial(p[cur_idx], num_samples = 1, replacement = True, generator = g).item()\n",
    "        char = itos[char_idx]\n",
    "        if (char == '.'):\n",
    "            break\n",
    "        else:\n",
    "            w += char\n",
    "            cur_idx = char_idx\n",
    "    word = ''.join(w)\n",
    "    print(word)"
   ]
  },
  {
   "cell_type": "code",
   "execution_count": 333,
   "id": "4b160b22-ae15-4944-a914-fb637d79f741",
   "metadata": {},
   "outputs": [
    {
     "name": "stdout",
     "output_type": "stream",
     "text": [
      ".e, prob=0.0478, logprob=-3.0407\n",
      "em, prob=0.0377, logprob=-3.2792\n",
      "mm, prob=0.0253, logprob=-3.6765\n",
      "ma, prob=0.3899, logprob=-0.9418\n",
      "a., prob=0.1960, logprob=-1.6298\n",
      ".o, prob=0.0123, logprob=-4.3979\n",
      "ol, prob=0.0780, logprob=-2.5507\n",
      "li, prob=0.1777, logprob=-1.7277\n",
      "iv, prob=0.0152, logprob=-4.1862\n",
      "vi, prob=0.3541, logprob=-1.0383\n",
      "ia, prob=0.1382, logprob=-1.9794\n",
      "a., prob=0.1960, logprob=-1.6298\n",
      ".a, prob=0.1377, logprob=-1.9829\n",
      "av, prob=0.0246, logprob=-3.7044\n",
      "va, prob=0.2495, logprob=-1.3882\n",
      "a., prob=0.1960, logprob=-1.6298\n",
      "log_likelihood=tensor(-38.7833)\n",
      "nll=tensor(38.7833)\n",
      "average_nll=tensor(2.4240)\n"
     ]
    }
   ],
   "source": [
    "# 接下来来看我们要如何找到一个 loss function, 首先查看我们 training set 中的概率函数是什么样的\n",
    "P = N.float()\n",
    "P /= P.sum(1, keepdim = True)\n",
    "# P 是我们的概率矩阵\n",
    "# 接下来我们来计算一下训练集中前三个名字的概率情况是啥样的\n",
    "log_likelihood = 0.0\n",
    "n = 0\n",
    "for word in words[:3]:\n",
    "    chs = ['.'] + list(word) + ['.']\n",
    "    for ch1, ch2 in zip(chs, chs[1:]):\n",
    "        prob = P[stoi[ch1], stoi[ch2]]\n",
    "        logprob = torch.log(prob)\n",
    "        log_likelihood += logprob\n",
    "        n += 1\n",
    "        print(f'{ch1}{ch2}, prob={prob:.4f}, logprob={logprob:.4f}')\n",
    "\n",
    "print(f'{log_likelihood=}')\n",
    "nll = -log_likelihood\n",
    "print(f'{nll=}')\n",
    "average_nll = nll / n\n",
    "print(f'{average_nll=}')"
   ]
  },
  {
   "cell_type": "code",
   "execution_count": 336,
   "id": "938f10af-33a2-407f-8e81-e57f22b77e90",
   "metadata": {},
   "outputs": [],
   "source": [
    "# 有了判断一个生成好不好的函数之后，接下来做什么呢？\n",
    "# create the training set of all the bigrams, 也就是创建训练集\n",
    "xs = []\n",
    "ys = []\n",
    "for w in words[:1]:\n",
    "    chs = ['.'] + list(w) + ['.']\n",
    "    for ch1, ch2 in zip(chs, chs[1:]):\n",
    "        xs.append(stoi[ch1])\n",
    "        ys.append(stoi[ch2])\n",
    "\n",
    "xs = torch.tensor(xs)\n",
    "ys = torch.tensor(ys)\n"
   ]
  },
  {
   "cell_type": "code",
   "execution_count": 337,
   "id": "a3de30ad-f215-4010-96e1-370321422c40",
   "metadata": {},
   "outputs": [
    {
     "data": {
      "text/plain": [
       "tensor([ 0,  5, 13, 13,  1])"
      ]
     },
     "execution_count": 337,
     "metadata": {},
     "output_type": "execute_result"
    }
   ],
   "source": [
    "xs"
   ]
  },
  {
   "cell_type": "code",
   "execution_count": 338,
   "id": "c0485a18-9b7b-48f4-8217-2a3e7c85c249",
   "metadata": {},
   "outputs": [
    {
     "data": {
      "text/plain": [
       "tensor([ 5, 13, 13,  1,  0])"
      ]
     },
     "execution_count": 338,
     "metadata": {},
     "output_type": "execute_result"
    }
   ],
   "source": [
    "ys"
   ]
  },
  {
   "cell_type": "code",
   "execution_count": 339,
   "id": "87e62bff-8198-4301-a991-85dde0402203",
   "metadata": {},
   "outputs": [
    {
     "data": {
      "text/plain": [
       "torch.Size([5])"
      ]
     },
     "execution_count": 339,
     "metadata": {},
     "output_type": "execute_result"
    }
   ],
   "source": [
    "# 但是这样的 xs 和 ys 并不能直接作为训练内容输入给 neural network\n",
    "# 我们需要把他们转变成神经网络需要的 tensor, 为什么这个直给不行我暂时还没有答案\n",
    "xs.shape"
   ]
  },
  {
   "cell_type": "code",
   "execution_count": 340,
   "id": "489f885f-022b-4c24-8756-872d20f106b3",
   "metadata": {},
   "outputs": [
    {
     "data": {
      "text/plain": [
       "tensor([[1, 0, 0, 0, 0, 0, 0, 0, 0, 0, 0, 0, 0, 0, 0, 0, 0, 0, 0, 0, 0, 0, 0, 0,\n",
       "         0, 0, 0],\n",
       "        [0, 0, 0, 0, 0, 1, 0, 0, 0, 0, 0, 0, 0, 0, 0, 0, 0, 0, 0, 0, 0, 0, 0, 0,\n",
       "         0, 0, 0],\n",
       "        [0, 0, 0, 0, 0, 0, 0, 0, 0, 0, 0, 0, 0, 1, 0, 0, 0, 0, 0, 0, 0, 0, 0, 0,\n",
       "         0, 0, 0],\n",
       "        [0, 0, 0, 0, 0, 0, 0, 0, 0, 0, 0, 0, 0, 1, 0, 0, 0, 0, 0, 0, 0, 0, 0, 0,\n",
       "         0, 0, 0],\n",
       "        [0, 1, 0, 0, 0, 0, 0, 0, 0, 0, 0, 0, 0, 0, 0, 0, 0, 0, 0, 0, 0, 0, 0, 0,\n",
       "         0, 0, 0]])"
      ]
     },
     "execution_count": 340,
     "metadata": {},
     "output_type": "execute_result"
    }
   ],
   "source": [
    "import torch.nn.functional as F\n",
    "xenc = F.one_hot(xs, num_classes = 27).float()\n",
    "xenc"
   ]
  },
  {
   "cell_type": "code",
   "execution_count": 341,
   "id": "9d08b75e-2bd2-41e0-a43c-48ebdbc35aef",
   "metadata": {},
   "outputs": [
    {
     "data": {
      "text/plain": [
       "torch.Size([5, 27])"
      ]
     },
     "execution_count": 341,
     "metadata": {},
     "output_type": "execute_result"
    }
   ],
   "source": [
    "xenc.shape"
   ]
  },
  {
   "cell_type": "code",
   "execution_count": 342,
   "id": "4eb77b72-51d9-4831-93e9-573c9cb494a2",
   "metadata": {},
   "outputs": [
    {
     "data": {
      "text/plain": [
       "torch.int64"
      ]
     },
     "execution_count": 342,
     "metadata": {},
     "output_type": "execute_result"
    }
   ],
   "source": [
    "xenc.dtype"
   ]
  }
 ],
 "metadata": {
  "kernelspec": {
   "display_name": "Python 3 (ipykernel)",
   "language": "python",
   "name": "python3"
  },
  "language_info": {
   "codemirror_mode": {
    "name": "ipython",
    "version": 3
   },
   "file_extension": ".py",
   "mimetype": "text/x-python",
   "name": "python",
   "nbconvert_exporter": "python",
   "pygments_lexer": "ipython3",
   "version": "3.12.7"
  }
 },
 "nbformat": 4,
 "nbformat_minor": 5
}
