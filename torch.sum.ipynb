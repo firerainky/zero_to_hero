{
 "cells": [
  {
   "cell_type": "markdown",
   "id": "aa4c4936-075a-4524-a5d6-6b1fb71842a7",
   "metadata": {},
   "source": [
    "# Meaning of torch.sum\n",
    "\n",
    "https://docs.pytorch.org/docs/stable/generated/torch.sum.html#torch.sum\n",
    "\n",
    "Two params\n",
    "- dim (int or tuple of ints, optional) – the dimension or dimensions to reduce. If None, all dimensions are reduced.\n",
    "- keepdim (bool, optional) – whether the output tensor has dim retained or not. Default: False.\n",
    "\n",
    "dim 的意思就是消灭（reduce） 第 dim 个维度"
   ]
  },
  {
   "cell_type": "code",
   "execution_count": 2,
   "id": "c250dcfe-1a98-40a6-a7f8-efd3489b2bd8",
   "metadata": {},
   "outputs": [
    {
     "data": {
      "text/plain": [
       "torch.Size([3, 2])"
      ]
     },
     "execution_count": 2,
     "metadata": {},
     "output_type": "execute_result"
    }
   ],
   "source": [
    "import torch\n",
    "M = torch.tensor([\n",
    "    [1, 2],  # 第0行\n",
    "    [3, 4],  # 第1行\n",
    "    [5, 6]   # 第2行\n",
    "])\n",
    "M.shape"
   ]
  },
  {
   "cell_type": "code",
   "execution_count": 5,
   "id": "b0998d33-2ca3-4638-a608-10fbbdd46963",
   "metadata": {},
   "outputs": [
    {
     "data": {
      "text/plain": [
       "tensor([ 9, 12])"
      ]
     },
     "execution_count": 5,
     "metadata": {},
     "output_type": "execute_result"
    }
   ],
   "source": [
    "# We can see that the first dim of M is row, if we reduce row, the remaining sum has only 2 values\n",
    "# and the second dim on M is column, if we reduce column, the remaining sum has 3 values\n",
    "M.sum(0)"
   ]
  },
  {
   "cell_type": "code",
   "execution_count": 17,
   "id": "de774c03-ffd2-4b89-92d1-932235d88b64",
   "metadata": {},
   "outputs": [
    {
     "data": {
      "text/plain": [
       "torch.Size([3])"
      ]
     },
     "execution_count": 17,
     "metadata": {},
     "output_type": "execute_result"
    }
   ],
   "source": [
    "M.sum(1).shape"
   ]
  },
  {
   "cell_type": "code",
   "execution_count": 8,
   "id": "8363d745-142d-445b-a5ab-b9b5c2732be7",
   "metadata": {},
   "outputs": [
    {
     "data": {
      "text/plain": [
       "torch.Size([4, 3, 2])"
      ]
     },
     "execution_count": 8,
     "metadata": {},
     "output_type": "execute_result"
    }
   ],
   "source": [
    "# How about sum for a 3 dim tensor?\n",
    "M3 = torch.tensor([[\n",
    "    [1, 2],  # 第0行\n",
    "    [3, 4],  # 第1行\n",
    "    [5, 6]   # 第2行\n",
    "], [\n",
    "    [1, 2],  # 第0行\n",
    "    [3, 4],  # 第1行\n",
    "    [5, 6]   # 第2行\n",
    "], [\n",
    "    [1, 2],  # 第0行\n",
    "    [3, 4],  # 第1行\n",
    "    [5, 6]   # 第2行\n",
    "], [\n",
    "    [1, 2],  # 第0行\n",
    "    [3, 4],  # 第1行\n",
    "    [5, 6]   # 第2行\n",
    "]])\n",
    "M3.size()"
   ]
  },
  {
   "cell_type": "code",
   "execution_count": 9,
   "id": "3374d3c1-78c9-4ec8-806b-21c94a553137",
   "metadata": {},
   "outputs": [
    {
     "data": {
      "text/plain": [
       "tensor([[ 4,  8],\n",
       "        [12, 16],\n",
       "        [20, 24]])"
      ]
     },
     "execution_count": 9,
     "metadata": {},
     "output_type": "execute_result"
    }
   ],
   "source": [
    "M3.sum(0)"
   ]
  },
  {
   "cell_type": "code",
   "execution_count": 10,
   "id": "e447e32f-d021-4d05-9d8c-4b40b5b8c87e",
   "metadata": {},
   "outputs": [
    {
     "data": {
      "text/plain": [
       "torch.Size([3, 2])"
      ]
     },
     "execution_count": 10,
     "metadata": {},
     "output_type": "execute_result"
    }
   ],
   "source": [
    "M3.sum(0).size()"
   ]
  },
  {
   "cell_type": "code",
   "execution_count": 11,
   "id": "0b450c59-385a-41ab-9641-a983a19a1311",
   "metadata": {},
   "outputs": [
    {
     "data": {
      "text/plain": [
       "tensor([[ 9, 12],\n",
       "        [ 9, 12],\n",
       "        [ 9, 12],\n",
       "        [ 9, 12]])"
      ]
     },
     "execution_count": 11,
     "metadata": {},
     "output_type": "execute_result"
    }
   ],
   "source": [
    "M3.sum(1)"
   ]
  },
  {
   "cell_type": "code",
   "execution_count": 12,
   "id": "448a73f0-9498-426f-99ba-4d14368fb180",
   "metadata": {},
   "outputs": [
    {
     "data": {
      "text/plain": [
       "torch.Size([4, 2])"
      ]
     },
     "execution_count": 12,
     "metadata": {},
     "output_type": "execute_result"
    }
   ],
   "source": [
    "M3.sum(1).size()"
   ]
  },
  {
   "cell_type": "markdown",
   "id": "03b2b9e1-21bb-4dbc-90de-e195b0e76517",
   "metadata": {},
   "source": [
    "可见，第一个维度是最外层的 [], 第二个维度是第二层的[], 依次类推，dim 指向哪一层就脱哪一层的 [] 非常有趣\n",
    "可以看到文档里说 dim 可以是 tuple, 不知道 python 的 tuple 是否只能是两个数，问了下豆包，不是，所以dim 使用tuple 的话就是指定哪几层的 []"
   ]
  },
  {
   "cell_type": "markdown",
   "id": "65838f37-a9a0-4612-9cb0-0af4e4d5e084",
   "metadata": {},
   "source": [
    "再来看第二个参数 keepdim, 它是再求和的同时保留这个维度，也就是 [] 不脱，但是求和的这一层维度数量变成了 1"
   ]
  },
  {
   "cell_type": "code",
   "execution_count": 13,
   "id": "fbf78626-cd92-4a23-aaf4-7b3f8f0f6872",
   "metadata": {},
   "outputs": [
    {
     "data": {
      "text/plain": [
       "tensor([[ 9, 12]])"
      ]
     },
     "execution_count": 13,
     "metadata": {},
     "output_type": "execute_result"
    }
   ],
   "source": [
    "M.sum(0, keepdim=True)"
   ]
  },
  {
   "cell_type": "code",
   "execution_count": 15,
   "id": "267f0509-9840-4038-b854-64baf781670c",
   "metadata": {},
   "outputs": [
    {
     "data": {
      "text/plain": [
       "tensor([ 9, 12])"
      ]
     },
     "execution_count": 15,
     "metadata": {},
     "output_type": "execute_result"
    }
   ],
   "source": [
    "M.sum(0, keepdim=False)"
   ]
  },
  {
   "cell_type": "code",
   "execution_count": 14,
   "id": "967ff5a3-e8d8-40d4-82ea-be4297befe84",
   "metadata": {},
   "outputs": [
    {
     "data": {
      "text/plain": [
       "tensor([[ 3],\n",
       "        [ 7],\n",
       "        [11]])"
      ]
     },
     "execution_count": 14,
     "metadata": {},
     "output_type": "execute_result"
    }
   ],
   "source": [
    "M.sum(1, keepdim=True)"
   ]
  },
  {
   "cell_type": "code",
   "execution_count": 5,
   "id": "b6c2633d-1df0-4a5d-910f-d56cba87cbb6",
   "metadata": {},
   "outputs": [
    {
     "ename": "RuntimeError",
     "evalue": "The size of tensor a (2) must match the size of tensor b (3) at non-singleton dimension 1",
     "output_type": "error",
     "traceback": [
      "\u001b[31m---------------------------------------------------------------------------\u001b[39m",
      "\u001b[31mRuntimeError\u001b[39m                              Traceback (most recent call last)",
      "\u001b[36mCell\u001b[39m\u001b[36m \u001b[39m\u001b[32mIn[5]\u001b[39m\u001b[32m, line 8\u001b[39m\n\u001b[32m      2\u001b[39m M1 = torch.tensor([\n\u001b[32m      3\u001b[39m     [\u001b[32m1\u001b[39m, \u001b[32m2\u001b[39m],  \u001b[38;5;66;03m# 第0行\u001b[39;00m\n\u001b[32m      4\u001b[39m     [\u001b[32m3\u001b[39m, \u001b[32m4\u001b[39m],  \u001b[38;5;66;03m# 第1行\u001b[39;00m\n\u001b[32m      5\u001b[39m     [\u001b[32m5\u001b[39m, \u001b[32m6\u001b[39m]   \u001b[38;5;66;03m# 第2行\u001b[39;00m\n\u001b[32m      6\u001b[39m ])\n\u001b[32m      7\u001b[39m M2 = torch.tensor([\u001b[32m2\u001b[39m, \u001b[32m3\u001b[39m, \u001b[32m4\u001b[39m])\n\u001b[32m----> \u001b[39m\u001b[32m8\u001b[39m \u001b[43mM1\u001b[49m\u001b[43m \u001b[49m\u001b[43m/\u001b[49m\u001b[43m \u001b[49m\u001b[43mM2\u001b[49m\n",
      "\u001b[31mRuntimeError\u001b[39m: The size of tensor a (2) must match the size of tensor b (3) at non-singleton dimension 1"
     ]
    }
   ],
   "source": [
    "# Let's see broadcasting rules\n",
    "M1 = torch.tensor([\n",
    "    [1, 2],  # 第0行\n",
    "    [3, 4],  # 第1行\n",
    "    [5, 6]   # 第2行\n",
    "])\n",
    "M2 = torch.tensor([2, 3, 4])\n",
    "M1 / M2"
   ]
  }
 ],
 "metadata": {
  "kernelspec": {
   "display_name": "Python 3 (ipykernel)",
   "language": "python",
   "name": "python3"
  },
  "language_info": {
   "codemirror_mode": {
    "name": "ipython",
    "version": 3
   },
   "file_extension": ".py",
   "mimetype": "text/x-python",
   "name": "python",
   "nbconvert_exporter": "python",
   "pygments_lexer": "ipython3",
   "version": "3.12.7"
  }
 },
 "nbformat": 4,
 "nbformat_minor": 5
}
